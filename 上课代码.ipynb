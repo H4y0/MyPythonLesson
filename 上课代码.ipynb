{
 "cells": [
  {
   "cell_type": "code",
   "execution_count": null,
   "metadata": {},
   "outputs": [],
   "source": [
    "x = input()\n",
    "print(sum(map(int,x)))"
   ]
  },
  {
   "cell_type": "code",
   "execution_count": null,
   "metadata": {},
   "outputs": [],
   "source": [
    "num = int(input(\"请输入一个自然数：\"))\n",
    "print(\"二进制：\",bin(num))\n",
    "print(\"八进制：\",oct(num))\n",
    "print(\"十六进制：\",hex(num))"
   ]
  },
  {
   "cell_type": "code",
   "execution_count": null,
   "metadata": {},
   "outputs": [],
   "source": [
    "print(\"数字{}的二进制形式是{}，八进制形式是{}，十六进制形式是{}\".format(num,bin(num),oct(num),hex(num)))"
   ]
  },
  {
   "cell_type": "code",
   "execution_count": null,
   "metadata": {},
   "outputs": [],
   "source": [
    "x=1.2\n",
    "print(\"x是{:.2f}\".format(x))"
   ]
  },
  {
   "cell_type": "code",
   "execution_count": null,
   "metadata": {},
   "outputs": [],
   "source": [
    "# 3、列表操作复习\n",
    "# ①　定义空列表lt \n",
    "lt = []\n",
    "lt=list()\n",
    "# ②　向lt新增元素1,2,3,4,5\n",
    "lt.extend([1,2,3,4,5])\n",
    "\n",
    "for i in range(1,6):\n",
    "    lt.append(i)\n",
    "    \n",
    "lt+=[1,2,3,4,5]\n",
    "\n",
    "lt[len(lt):]=[1,2,3,4,5]\n",
    "\n",
    "print(lt)\n"
   ]
  },
  {
   "cell_type": "code",
   "execution_count": null,
   "metadata": {},
   "outputs": [],
   "source": [
    "# ③　修改lt中第2个元素 \n",
    "lt[1] = 10\n",
    "lt[1:2]=[9]\n",
    "# ④　向lt中第2个位置增加一个元素 \n",
    "lt.insert(1,10)\n",
    "lt[1:1]=[11]\n",
    "print(lt)"
   ]
  },
  {
   "cell_type": "code",
   "execution_count": null,
   "metadata": {},
   "outputs": [],
   "source": [
    "# ⑤　从lt中第1个位置删除一个元素 \n",
    "lt.pop(0)\n",
    "del lt[0]\n",
    "lt[0:1]=[]\n",
    "print(lt)"
   ]
  },
  {
   "cell_type": "code",
   "execution_count": null,
   "metadata": {},
   "outputs": [],
   "source": [
    "# ⑥　删除lt中第1-3位置元素\n",
    "for i in range(3):\n",
    "    lt.pop(i)\n",
    "    \n",
    "del lt[0:3]\n",
    "lt[0:3]=[]\n",
    "print(lt)\n"
   ]
  },
  {
   "cell_type": "code",
   "execution_count": null,
   "metadata": {},
   "outputs": [],
   "source": [
    "# ⑦　判断lt中是否包含数字0 \n",
    "print(\"判断lt中是否包含数字0\",0 in lt)\n"
   ]
  },
  {
   "cell_type": "code",
   "execution_count": null,
   "metadata": {},
   "outputs": [],
   "source": [
    "# ⑧　向lt新增数字0 \n",
    "lt=[0,1, 2, 3, 4, 5, 1, 2, 3, 4, 5]\n",
    "lt.append(1)\n",
    "lt+=[2]\n",
    "lt[len(lt):]=[3]\n",
    "lt.extend([4])\n",
    "print(lt)\n",
    "\n"
   ]
  },
  {
   "cell_type": "code",
   "execution_count": null,
   "metadata": {},
   "outputs": [],
   "source": [
    "# ⑨　返回数字0所在lt中的索引 \n",
    "print(\"0索引\",lt.index(0))\n",
    "# ⑩　lt的长度 \n",
    "print(\"长度\",len(lt))\n",
    "# 11　lt中最大元素\n",
    "print(\"最大\",max(lt))\n",
    "# 12　lt中最小元素\n",
    "print(\"最小\",min(lt))\n",
    "# 13　Lt中所有元素的和\n",
    "print(\"求和\",sum(lt))\n",
    "lt"
   ]
  },
  {
   "cell_type": "code",
   "execution_count": 4,
   "metadata": {},
   "outputs": [
    {
     "name": "stdout",
     "output_type": "stream",
     "text": [
      "3.0\n",
      "2.0\n",
      "1.4142135623730951\n",
      "3\n"
     ]
    }
   ],
   "source": [
    "# 4、求平均值 方差 标准差 中位数\n",
    "#思路1\n",
    "x=\"1 3 5 2 4\".split()\n",
    "n=len(x)\n",
    "ave=sum(int(i) for i in x)/n\n",
    "print(ave)\n",
    "#方差\n",
    "fc=sum([pow((int(i)-ave),2) for i in x])/n\n",
    "print(fc)\n",
    "#求标准差\n",
    "import math\n",
    "print(math.sqrt(fc))\n",
    "x=sorted(x)\n",
    "sum=0\n",
    "if n%2==0:\n",
    "    for i in range(n):\n",
    "        if i == n/2-1 or i==n/2:\n",
    "            sum=sum+int(x[i])\n",
    "    print(sum/2)\n",
    "else:\n",
    "    for i in range(n):\n",
    "        if i == int(n/2):\n",
    "            print(x[i])\n",
    "            break"
   ]
  },
  {
   "cell_type": "code",
   "execution_count": 1,
   "metadata": {},
   "outputs": [
    {
     "name": "stdout",
     "output_type": "stream",
     "text": [
      "15.0\n",
      "3.0\n",
      "2.0\n",
      "1.4142135623730951\n",
      "3\n"
     ]
    }
   ],
   "source": [
    "#思路2\n",
    "import math\n",
    "def mean(l):\n",
    "    print(float(sum(l)))\n",
    "    return float(sum(l)) / len(l);\n",
    "def variance(l):\n",
    "    u = float(sum(l)) / len(l);\n",
    "    s = 0;\n",
    "    for i in l:\n",
    "        s += (i - u) ** 2;\n",
    "    return float(s) / len(l)\n",
    "def standard(l):\n",
    "    var = variance(l)\n",
    "    return float(math.sqrt(var))\n",
    "def median(l):\n",
    "    l = sorted(l)\n",
    "    if len(l) % 2 == 1:\n",
    "        return l[len(l) // 2];\n",
    "    else:\n",
    "        return (l[len(l) // 2 - 1] + l[len(l) // 2]) / 2.0\n",
    "l = [1,2,3,4,5]\n",
    "print(mean(l))#求均值\n",
    "print(variance(l))#求方差\n",
    "print(standard(l))#求标准差\n",
    "print(median(l))#求中位数"
   ]
  },
  {
   "cell_type": "code",
   "execution_count": 3,
   "metadata": {},
   "outputs": [
    {
     "name": "stdout",
     "output_type": "stream",
     "text": [
      "3.00\n",
      "2.00\n",
      "1.41\n",
      "3"
     ]
    }
   ],
   "source": [
    "#思路3\n",
    "import math\n",
    "a= [1,2,3,4,5]\n",
    "ave=sum(float(i) for i in a)/len(a)\n",
    "print(\"%.2f\"%ave)#平均数\n",
    "ave2=sum((float(i)-ave)**2 for i in a)/len(a)\n",
    "print(\"%.2f\"%ave2)#方差\n",
    "# print(\"%.2f\"%math.sqrt(ave2))#标准差\n",
    "print(\"%.2f\"%pow(ave2,0.5))#标准差\n",
    "a.sort()\n",
    "if len(a)%2!=0:\n",
    "    print(a[int(len(a)/2)],end=\"\")#中位数\n",
    "else:\n",
    "    print((float(a[int(len(a)/2)])+float(a[int(len(a)/2-1)]))/2,end=\"\")#中位数"
   ]
  },
  {
   "cell_type": "code",
   "execution_count": 6,
   "metadata": {},
   "outputs": [
    {
     "name": "stdout",
     "output_type": "stream",
     "text": [
      "累计进步：1.44,累计剩下：0.69\n"
     ]
    }
   ],
   "source": [
    "# 5、天天向上\n",
    "#问题1\n",
    "dayup = pow(1.001,365)\n",
    "remain = pow(0.999,365)\n",
    "print(\"累计进步：{:.2f},累计剩下：{:.2f}\".format(dayup,remain))"
   ]
  },
  {
   "cell_type": "code",
   "execution_count": 10,
   "metadata": {},
   "outputs": [
    {
     "name": "stdout",
     "output_type": "stream",
     "text": [
      "37.78343433288728\n",
      "6.174652783431007\n",
      "0.025517964452291125\n",
      "0.16048131420416056\n"
     ]
    }
   ],
   "source": [
    "# 问题2\n",
    "def f(m):\n",
    "    return pow(1+m,365)\n",
    "print(f(0.01))\n",
    "print(f(0.005))\n",
    "print(f(-0.01))\n",
    "print(f(-0.005))"
   ]
  },
  {
   "cell_type": "code",
   "execution_count": 11,
   "metadata": {},
   "outputs": [
    {
     "name": "stdout",
     "output_type": "stream",
     "text": [
      "工作日的力量：4.63 \n"
     ]
    }
   ],
   "source": [
    "# 问题3： 工作日的力量 \n",
    "# 一年365天，一周5个工作日，每天进步1% \n",
    "# 一年365天，一周2个休息日，每天退步1%\n",
    "dayup = 1.0\n",
    "dayfactor = 0.01\n",
    "for i in range(365):\n",
    "        if i % 7 in [6,0]:\n",
    "                dayup = dayup*(1 - dayfactor)\n",
    "        else:\n",
    "                dayup = dayup*(1 + dayfactor)\n",
    "print(\"工作日的力量：{:.2f} \".format(dayup))"
   ]
  },
  {
   "cell_type": "code",
   "execution_count": 13,
   "metadata": {},
   "outputs": [
    {
     "name": "stdout",
     "output_type": "stream",
     "text": [
      "工作日努力：0.02 \n"
     ]
    }
   ],
   "source": [
    "# 问题4\n",
    "# 工作日模式要努力到什么水平，才能与每天努力1%一样？ \n",
    "# A君: 一年365天，每天进步1%，不停歇 \n",
    "# B君: 一年365天，每周工作5天休息2天，休息日下降1%，要努力多少呢？\n",
    "def daycom(dayfactor):\n",
    "    dayup = 1.0\n",
    "    for i in range(365):\n",
    "        if i % 7 in [6,0]:\n",
    "                dayup = dayup*(1 - 0.01)\n",
    "        else:\n",
    "                dayup = dayup*(1 + dayfactor)\n",
    "    return dayup\n",
    "dayfactor=0.001\n",
    "while daycom(dayfactor)<37.8:\n",
    "    dayfactor+=0.001\n",
    "print(\"工作日努力：{:.2f} \".format(dayfactor))"
   ]
  },
  {
   "cell_type": "code",
   "execution_count": null,
   "metadata": {},
   "outputs": [],
   "source": []
  }
 ],
 "metadata": {
  "kernelspec": {
   "display_name": "Python 3",
   "language": "python",
   "name": "python3"
  },
  "language_info": {
   "codemirror_mode": {
    "name": "ipython",
    "version": 3
   },
   "file_extension": ".py",
   "mimetype": "text/x-python",
   "name": "python",
   "nbconvert_exporter": "python",
   "pygments_lexer": "ipython3",
   "version": "3.7.3"
  }
 },
 "nbformat": 4,
 "nbformat_minor": 2
}
